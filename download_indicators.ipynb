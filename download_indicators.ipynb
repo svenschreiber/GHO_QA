{
 "cells": [
  {
   "cell_type": "code",
   "execution_count": 2,
   "metadata": {},
   "outputs": [],
   "source": [
    "import pandas as pd\n",
    "import sqlite3\n",
    "import re\n",
    "from pathlib import Path\n",
    "import requests\n",
    "from glob import glob\n",
    "\n",
    "Path(\"data/indicators\").mkdir(parents=True, exist_ok=True)"
   ]
  },
  {
   "cell_type": "code",
   "execution_count": 3,
   "metadata": {},
   "outputs": [],
   "source": [
    "# Automatically download the data for an indicator and filter/modify it's structure\n",
    "indicators = [\"NCD_DIABETES_PREVALENCE_AGESTD\", \"HIV_0000000026\", \"SA_0000001719\"]\n",
    "\n",
    "for indicator in indicators:\n",
    "    data = requests.get(f\"https://ghoapi.azureedge.net/api/{indicator}\").json()\n",
    "    df = pd.DataFrame(data['value'])\n",
    "\n",
    "    no_numeric = df[\"NumericValue\"].dropna(how=\"all\").empty\n",
    "\n",
    "    # Get dimension types\n",
    "    dim_type_map = {\"SpatialDim\": None, \"TimeDim\": None, \"Dim1\": None, \"Dim2\": None, \"Dim3\": None, }\n",
    "\n",
    "    # if there is a numeric value we use that as the main value, otherwise we use the general 'Value' column, which could also contain strings\n",
    "    if no_numeric: dim_type_map[\"Value\"] = \"value\"\n",
    "    else: dim_type_map[\"NumericValue\"] = \"value\"\n",
    "\n",
    "    dim_value_map = {}\n",
    "    for dim in dim_type_map.keys():\n",
    "        if dim_type_map[dim] is not None: continue\n",
    "        dim_type = df[dim+\"Type\"].mode(dropna=False)[0]\n",
    "        if dim_type is None or dim_type == \"\": continue \n",
    "        dim_values = requests.get(f\"https://ghoapi.azureedge.net/api/DIMENSION/{dim_type}/DimensionValues\").json()[\"value\"]\n",
    "        dim_value_map[dim_type.lower()] = {d[\"Code\"]: d[\"Title\"].lower() for d in dim_values}\n",
    "        dim_type_map[dim] = dim_type.lower()\n",
    "\n",
    "    # Remove unused dimensions\n",
    "    dim_map = {k: v for k,v in dim_type_map.items() if v is not None}\n",
    "\n",
    "    # Get indicator name\n",
    "    indicator_name = requests.get(f\"https://ghoapi.azureedge.net/api/Indicator?$filter=IndicatorCode eq '{indicator}'\").json()[\"value\"][0][\"IndicatorName\"]\n",
    "\n",
    "    # remove rows where the spatial and time dim differ from the one picked above\n",
    "    df = df.loc[df['SpatialDimType'].str.lower()==dim_type_map[\"SpatialDim\"]]\n",
    "    df = df.loc[df['TimeDimType'].str.lower()==dim_type_map[\"TimeDim\"]]\n",
    "\n",
    "    # Filter data to specific columns and rename to their actual names\n",
    "    filtered_df = df[dim_map.keys()]\n",
    "    filtered_df = filtered_df.rename(columns=dim_map)\n",
    "\n",
    "    # Map Value codes to their textual values\n",
    "    for dim, value_map in dim_value_map.items():\n",
    "        filtered_df[dim] = filtered_df[dim].map(value_map).fillna(filtered_df[dim])\n",
    "\n",
    "    # Save data to csv file\n",
    "    file_name = re.sub('[^0-9a-zA-Z]+', '_', indicator_name.lower())\n",
    "    filtered_df = filtered_df.applymap(lambda x: ' '.join(x.split()) if isinstance(x, str) else x)\n",
    "    filtered_df.to_csv(f\"data/indicators/{file_name}.csv\", index=False, sep=\";\")"
   ]
  },
  {
   "cell_type": "code",
   "execution_count": 4,
   "metadata": {},
   "outputs": [],
   "source": [
    "# Connect to sqlite database\n",
    "db_path = \"data/gho.db\"\n",
    "conn = sqlite3.connect(db_path)\n",
    "\n",
    "# Convert csv file to sqlite database\n",
    "for indicator_file in glob(\"data/indicators/*.csv\"):\n",
    "    df = pd.read_csv(indicator_file, sep=\";\")\n",
    "    df.insert(0, 'rowid', range(1, 1 + len(df)))\n",
    "    df.to_sql(indicator_file.split(\"/\")[-1][:-4], conn, if_exists=\"replace\", index=False)"
   ]
  },
  {
   "cell_type": "code",
   "execution_count": 21,
   "metadata": {},
   "outputs": [
    {
     "name": "stderr",
     "output_type": "stream",
     "text": [
      "Insert of existing embedding ID: id0\n",
      "Insert of existing embedding ID: id1\n",
      "Insert of existing embedding ID: id2\n",
      "Add of existing embedding ID: id0\n",
      "Add of existing embedding ID: id1\n",
      "Add of existing embedding ID: id2\n"
     ]
    },
    {
     "ename": "ValueError",
     "evalue": "Invalid input: 'content' argument must not be empty. Please provide a non-empty value.",
     "output_type": "error",
     "traceback": [
      "\u001b[0;31m---------------------------------------------------------------------------\u001b[0m",
      "\u001b[0;31mValueError\u001b[0m                                Traceback (most recent call last)",
      "Cell \u001b[0;32mIn[21], line 14\u001b[0m\n\u001b[1;32m     10\u001b[0m system_prompt \u001b[38;5;241m=\u001b[39m sql_rag\u001b[38;5;241m.\u001b[39mget_system_prompt(question)\n\u001b[1;32m     12\u001b[0m genai\u001b[38;5;241m.\u001b[39mconfigure(api_key\u001b[38;5;241m=\u001b[39mos\u001b[38;5;241m.\u001b[39mgetenv(\u001b[38;5;124m\"\u001b[39m\u001b[38;5;124mGOOGLE_API_KEY\u001b[39m\u001b[38;5;124m\"\u001b[39m))\n\u001b[0;32m---> 14\u001b[0m model \u001b[38;5;241m=\u001b[39m \u001b[43mgenai\u001b[49m\u001b[38;5;241;43m.\u001b[39;49m\u001b[43mGenerativeModel\u001b[49m\u001b[43m(\u001b[49m\n\u001b[1;32m     15\u001b[0m \u001b[43m    \u001b[49m\u001b[38;5;124;43m\"\u001b[39;49m\u001b[38;5;124;43mmodels/gemini-1.5-flash\u001b[39;49m\u001b[38;5;124;43m\"\u001b[39;49m\u001b[43m,\u001b[49m\n\u001b[1;32m     16\u001b[0m \u001b[43m    \u001b[49m\u001b[43msystem_instruction\u001b[49m\u001b[38;5;241;43m=\u001b[39;49m\u001b[38;5;124;43m\"\u001b[39;49m\u001b[38;5;124;43m\"\u001b[39;49m\n\u001b[1;32m     17\u001b[0m \u001b[43m)\u001b[49m\n\u001b[1;32m     18\u001b[0m model\u001b[38;5;241m.\u001b[39m_system_instruction \u001b[38;5;241m=\u001b[39m system_prompt\n\u001b[1;32m     20\u001b[0m response \u001b[38;5;241m=\u001b[39m model\u001b[38;5;241m.\u001b[39mgenerate_content(question)\n",
      "File \u001b[0;32m~/miniconda3/envs/nlp_project/lib/python3.12/site-packages/google/generativeai/generative_models.py:97\u001b[0m, in \u001b[0;36mGenerativeModel.__init__\u001b[0;34m(self, model_name, safety_settings, generation_config, tools, tool_config, system_instruction)\u001b[0m\n\u001b[1;32m     95\u001b[0m     \u001b[38;5;28mself\u001b[39m\u001b[38;5;241m.\u001b[39m_system_instruction \u001b[38;5;241m=\u001b[39m \u001b[38;5;28;01mNone\u001b[39;00m\n\u001b[1;32m     96\u001b[0m \u001b[38;5;28;01melse\u001b[39;00m:\n\u001b[0;32m---> 97\u001b[0m     \u001b[38;5;28mself\u001b[39m\u001b[38;5;241m.\u001b[39m_system_instruction \u001b[38;5;241m=\u001b[39m \u001b[43mcontent_types\u001b[49m\u001b[38;5;241;43m.\u001b[39;49m\u001b[43mto_content\u001b[49m\u001b[43m(\u001b[49m\u001b[43msystem_instruction\u001b[49m\u001b[43m)\u001b[49m\n\u001b[1;32m     99\u001b[0m \u001b[38;5;28mself\u001b[39m\u001b[38;5;241m.\u001b[39m_client \u001b[38;5;241m=\u001b[39m \u001b[38;5;28;01mNone\u001b[39;00m\n\u001b[1;32m    100\u001b[0m \u001b[38;5;28mself\u001b[39m\u001b[38;5;241m.\u001b[39m_async_client \u001b[38;5;241m=\u001b[39m \u001b[38;5;28;01mNone\u001b[39;00m\n",
      "File \u001b[0;32m~/miniconda3/envs/nlp_project/lib/python3.12/site-packages/google/generativeai/types/content_types.py:286\u001b[0m, in \u001b[0;36mto_content\u001b[0;34m(content)\u001b[0m\n\u001b[1;32m    284\u001b[0m \u001b[38;5;28;01mdef\u001b[39;00m\u001b[38;5;250m \u001b[39m\u001b[38;5;21mto_content\u001b[39m(content: ContentType):\n\u001b[1;32m    285\u001b[0m     \u001b[38;5;28;01mif\u001b[39;00m \u001b[38;5;129;01mnot\u001b[39;00m content:\n\u001b[0;32m--> 286\u001b[0m         \u001b[38;5;28;01mraise\u001b[39;00m \u001b[38;5;167;01mValueError\u001b[39;00m(\n\u001b[1;32m    287\u001b[0m             \u001b[38;5;124m\"\u001b[39m\u001b[38;5;124mInvalid input: \u001b[39m\u001b[38;5;124m'\u001b[39m\u001b[38;5;124mcontent\u001b[39m\u001b[38;5;124m'\u001b[39m\u001b[38;5;124m argument must not be empty. Please provide a non-empty value.\u001b[39m\u001b[38;5;124m\"\u001b[39m\n\u001b[1;32m    288\u001b[0m         )\n\u001b[1;32m    290\u001b[0m     \u001b[38;5;28;01mif\u001b[39;00m \u001b[38;5;28misinstance\u001b[39m(content, Mapping):\n\u001b[1;32m    291\u001b[0m         content \u001b[38;5;241m=\u001b[39m _convert_dict(content)\n",
      "\u001b[0;31mValueError\u001b[0m: Invalid input: 'content' argument must not be empty. Please provide a non-empty value."
     ]
    }
   ],
   "source": [
    "import google.generativeai as genai\n",
    "import os\n",
    "from sql_rag import SQLRAG, extract_sql\n",
    "from dotenv import load_dotenv\n",
    "load_dotenv(\".env\")\n",
    "\n",
    "question = \"How many cases of diabetes were recorded in germany in 2015 for males in the Agegroup 18+?\"\n",
    "\n",
    "sql_rag = SQLRAG()\n",
    "system_prompt = sql_rag.get_system_prompt(question)\n",
    "\n",
    "genai.configure(api_key=os.getenv(\"GOOGLE_API_KEY\"))\n",
    "\n",
    "model = genai.GenerativeModel(\n",
    "    \"models/gemini-1.5-flash\",\n",
    "    system_instruction=system_prompt,\n",
    ")\n",
    "\n",
    "response = model.generate_content(question)\n",
    "response.text"
   ]
  },
  {
   "cell_type": "code",
   "execution_count": 18,
   "metadata": {},
   "outputs": [
    {
     "data": {
      "text/plain": [
       "\"SELECT\\n  SUM(T1.value)\\nFROM prevalence_of_diabetes_age_standardized AS T1\\nWHERE\\n  T1.country LIKE 'germany' AND T1.year = 2015 AND T1.sex LIKE 'male' AND T1.agegroup LIKE '18+ years of age';\""
      ]
     },
     "execution_count": 18,
     "metadata": {},
     "output_type": "execute_result"
    }
   ],
   "source": [
    "sql = extract_sql(response.text)\n",
    "sql"
   ]
  },
  {
   "cell_type": "code",
   "execution_count": 19,
   "metadata": {},
   "outputs": [
    {
     "data": {
      "text/html": [
       "<div>\n",
       "<style scoped>\n",
       "    .dataframe tbody tr th:only-of-type {\n",
       "        vertical-align: middle;\n",
       "    }\n",
       "\n",
       "    .dataframe tbody tr th {\n",
       "        vertical-align: top;\n",
       "    }\n",
       "\n",
       "    .dataframe thead th {\n",
       "        text-align: right;\n",
       "    }\n",
       "</style>\n",
       "<table border=\"1\" class=\"dataframe\">\n",
       "  <thead>\n",
       "    <tr style=\"text-align: right;\">\n",
       "      <th></th>\n",
       "      <th>SUM(T1.value)</th>\n",
       "    </tr>\n",
       "  </thead>\n",
       "  <tbody>\n",
       "    <tr>\n",
       "      <th>0</th>\n",
       "      <td>8.1332</td>\n",
       "    </tr>\n",
       "  </tbody>\n",
       "</table>\n",
       "</div>"
      ],
      "text/plain": [
       "   SUM(T1.value)\n",
       "0         8.1332"
      ]
     },
     "execution_count": 19,
     "metadata": {},
     "output_type": "execute_result"
    }
   ],
   "source": [
    "import pandas as pd\n",
    "pd.read_sql_query(sql, conn)"
   ]
  },
  {
   "cell_type": "code",
   "execution_count": 6,
   "metadata": {},
   "outputs": [],
   "source": [
    "import sqlite3\n",
    "db_path = \"data/gho.db\"\n",
    "conn = sqlite3.connect(db_path)"
   ]
  }
 ],
 "metadata": {
  "kernelspec": {
   "display_name": "nlp_project",
   "language": "python",
   "name": "python3"
  },
  "language_info": {
   "codemirror_mode": {
    "name": "ipython",
    "version": 3
   },
   "file_extension": ".py",
   "mimetype": "text/x-python",
   "name": "python",
   "nbconvert_exporter": "python",
   "pygments_lexer": "ipython3",
   "version": "3.12.8"
  }
 },
 "nbformat": 4,
 "nbformat_minor": 2
}

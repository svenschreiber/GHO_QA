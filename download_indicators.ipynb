{
 "cells": [
  {
   "cell_type": "code",
   "execution_count": 2,
   "metadata": {},
   "outputs": [],
   "source": [
    "import pandas as pd\n",
    "import sqlite3\n",
    "import re\n",
    "from pathlib import Path\n",
    "import requests\n",
    "from glob import glob\n",
    "\n",
    "Path(\"data/indicators\").mkdir(parents=True, exist_ok=True)"
   ]
  },
  {
   "cell_type": "code",
   "execution_count": 3,
   "metadata": {},
   "outputs": [],
   "source": [
    "# Automatically download the data for an indicator and filter/modify it's structure\n",
    "indicators = [\"NCD_DIABETES_PREVALENCE_AGESTD\", \"HIV_0000000026\"]\n",
    "\n",
    "for indicator in indicators:\n",
    "    data = requests.get(f\"https://ghoapi.azureedge.net/api/{indicator}\").json()\n",
    "    df = pd.DataFrame(data['value'])\n",
    "\n",
    "    no_numeric = df[\"NumericValue\"].dropna(how=\"all\").empty\n",
    "\n",
    "    # Get dimension types\n",
    "    dim_type_map = {\"SpatialDim\": None, \"TimeDim\": None, \"Dim1\": None, \"Dim2\": None, \"Dim3\": None, }\n",
    "\n",
    "    # if there is a numeric value we use that as the main value, otherwise we use the general 'Value' column, which could also contain strings\n",
    "    if no_numeric: dim_type_map[\"Value\"] = \"value\"\n",
    "    else: dim_type_map[\"NumericValue\"] = \"value\"\n",
    "\n",
    "    dim_value_map = {}\n",
    "    for dim in dim_type_map.keys():\n",
    "        if dim_type_map[dim] is not None: continue\n",
    "        dim_type = df[dim+\"Type\"].mode(dropna=False)[0]\n",
    "        if dim_type is None or dim_type == \"\": continue \n",
    "        dim_values = requests.get(f\"https://ghoapi.azureedge.net/api/DIMENSION/{dim_type}/DimensionValues\").json()[\"value\"]\n",
    "        dim_value_map[dim_type.lower()] = {d[\"Code\"]: d[\"Title\"].lower() for d in dim_values}\n",
    "        dim_type_map[dim] = dim_type.lower()\n",
    "\n",
    "    # Remove unused dimensions\n",
    "    dim_map = {k: v for k,v in dim_type_map.items() if v is not None}\n",
    "\n",
    "    # Get indicator name\n",
    "    indicator_name = requests.get(f\"https://ghoapi.azureedge.net/api/Indicator?$filter=IndicatorCode eq '{indicator}'\").json()[\"value\"][0][\"IndicatorName\"]\n",
    "\n",
    "    # remove rows where the spatial and time dim differ from the one picked above\n",
    "    df = df.loc[df['SpatialDimType'].str.lower()==dim_type_map[\"SpatialDim\"]]\n",
    "    df = df.loc[df['TimeDimType'].str.lower()==dim_type_map[\"TimeDim\"]]\n",
    "\n",
    "    # Filter data to specific columns and rename to their actual names\n",
    "    filtered_df = df[dim_map.keys()]\n",
    "    filtered_df = filtered_df.rename(columns=dim_map)\n",
    "\n",
    "    # Map Value codes to their textual values\n",
    "    for dim, value_map in dim_value_map.items():\n",
    "        filtered_df[dim] = filtered_df[dim].map(value_map).fillna(filtered_df[dim])\n",
    "\n",
    "    # Save data to csv file\n",
    "    file_name = re.sub('[^0-9a-zA-Z]+', '_', indicator_name.lower())\n",
    "    filtered_df = filtered_df.applymap(lambda x: ' '.join(x.split()) if isinstance(x, str) else x)\n",
    "    filtered_df.to_csv(f\"data/indicators/{file_name}.csv\", index=False, sep=\";\")"
   ]
  },
  {
   "cell_type": "code",
   "execution_count": 4,
   "metadata": {},
   "outputs": [],
   "source": [
    "# Connect to sqlite database\n",
    "db_path = \"data/gho.db\"\n",
    "conn = sqlite3.connect(db_path)\n",
    "\n",
    "# Convert csv file to sqlite database\n",
    "for indicator_file in glob(\"data/indicators/*.csv\"):\n",
    "    df = pd.read_csv(indicator_file, sep=\";\")\n",
    "    df.insert(0, 'rowid', range(1, 1 + len(df)))\n",
    "    df.to_sql(indicator_file.split(\"/\")[-1][:-4], conn, if_exists=\"replace\", index=False)"
   ]
  }
 ],
 "metadata": {
  "kernelspec": {
   "display_name": "Python 3",
   "language": "python",
   "name": "python3"
  },
  "language_info": {
   "codemirror_mode": {
    "name": "ipython",
    "version": 3
   },
   "file_extension": ".py",
   "mimetype": "text/x-python",
   "name": "python",
   "nbconvert_exporter": "python",
   "pygments_lexer": "ipython3",
   "version": "3.12.8"
  }
 },
 "nbformat": 4,
 "nbformat_minor": 2
}

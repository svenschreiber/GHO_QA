{
 "cells": [
  {
   "cell_type": "code",
   "execution_count": 1,
   "metadata": {},
   "outputs": [],
   "source": [
    "from sql_rag import SQLRAG"
   ]
  },
  {
   "cell_type": "code",
   "execution_count": 7,
   "metadata": {},
   "outputs": [
    {
     "name": "stderr",
     "output_type": "stream",
     "text": [
      "Insert of existing embedding ID: id0\n",
      "Insert of existing embedding ID: id1\n",
      "Insert of existing embedding ID: id2\n",
      "Add of existing embedding ID: id0\n",
      "Add of existing embedding ID: id1\n",
      "Add of existing embedding ID: id2\n"
     ]
    },
    {
     "name": "stdout",
     "output_type": "stream",
     "text": [
      "The sytem prompt is:\n",
      "You are an SQLite query expert. Generate an optimized and accurate query based solely on the user's question, ensuring it follows the given context, response guidelines, and format instructions. \n",
      "\n",
      "===Tables \n",
      "CREATE TABLE \"prevalence_of_diabetes_age_standardized\" (\n",
      "\"rowid\" INTEGER,\n",
      "  \"country\" TEXT,\n",
      "  \"year\" INTEGER,\n",
      "  \"sex\" TEXT,\n",
      "  \"agegroup\" TEXT,\n",
      "  \"value\" REAL\n",
      ")\n",
      "\n",
      "Five random table rows:\n",
      "|    |   rowid | country                          |   year | sex        | agegroup         |    value |\n",
      "|---:|--------:|:---------------------------------|-------:|:-----------|:-----------------|---------:|\n",
      "|  0 |    1536 | tokelau                          |   2002 | male       | 18+ years of age | 30.515   |\n",
      "|  1 |   12322 | sao tome and principe            |   2019 | male       | 30+ years of age | 16.0918  |\n",
      "|  2 |   13755 | saint vincent and the grenadines |   2020 | both sexes | 30+ years of age | 18.3596  |\n",
      "|  3 |   19250 | jamaica                          |   2020 | female     | 18+ years of age | 26.8708  |\n",
      "|  4 |   32412 | djibouti                         |   1991 | male       | 18+ years of age |  4.91412 |\n",
      "\n",
      "CREATE TABLE \"number_of_new_hiv_infections\" (\n",
      "\"rowid\" INTEGER,\n",
      "  \"country\" TEXT,\n",
      "  \"year\" INTEGER,\n",
      "  \"value\" REAL\n",
      ")\n",
      "\n",
      "Five random table rows:\n",
      "|    |   rowid | country                          |   year |   value |\n",
      "|---:|--------:|:---------------------------------|-------:|--------:|\n",
      "|  0 |       9 | eritrea                          |   2001 |    1900 |\n",
      "|  1 |      86 | mozambique                       |   2013 |  160000 |\n",
      "|  2 |     649 | south africa                     |   2002 |  510000 |\n",
      "|  3 |     654 | uganda                           |   2013 |   83000 |\n",
      "|  4 |    1192 | democratic republic of the congo |   2018 |   28000 |\n",
      "\n",
      "CREATE TABLE \"advertising_restrictions_on_social_media\" (\n",
      "\"rowid\" INTEGER,\n",
      "  \"country\" TEXT,\n",
      "  \"year\" INTEGER,\n",
      "  \"advertisingtype\" TEXT,\n",
      "  \"value\" TEXT\n",
      ")\n",
      "\n",
      "Five random table rows:\n",
      "|    |   rowid | country    |   year | advertisingtype   | value                             |\n",
      "|---:|--------:|:-----------|-------:|:------------------|:----------------------------------|\n",
      "|  0 |       1 | iraq       |   2016 | wine ads          | voluntary/self-restricted         |\n",
      "|  1 |       2 | malta      |   2016 | wine ads          | no restriction                    |\n",
      "|  2 |       4 | uzbekistan |   2016 | wine ads          | ban                               |\n",
      "|  3 |      74 | latvia     |   2016 | beer ads          | partial restriction place/content |\n",
      "|  4 |     135 | myanmar    |   2016 | spirits ads       | partial restriction place         |\n",
      "\n",
      "===Response Guidelines \n",
      "1. Generate valid SQL if the context is sufficient. Ensure it is SQLite-compliant and error-free. \n",
      "2. Use the most relevant tables only. \n",
      "3. Use the example rows provided with each table, to ensure the right values are selected. \n",
      "4. Use LIKE for filtering TEXT columns unless otherwise specified. \n",
      "5. Avoid unnecessary complexity. Make the queries as short as possible. Do not focus on too many things at once. \n",
      "\n",
      "select country, year, value \n",
      "from prevalence_of_diabetes_age_standardized \n",
      "order by value desc \n",
      "limit 5;\n",
      "|    | country          |   year |   value |\n",
      "|---:|:-----------------|-------:|--------:|\n",
      "|  0 | marshall islands |   2007 | 46.9759 |\n",
      "|  1 | marshall islands |   2008 | 46.9299 |\n",
      "|  2 | marshall islands |   2006 | 46.9051 |\n",
      "|  3 | marshall islands |   2009 | 46.7798 |\n",
      "|  4 | marshall islands |   2005 | 46.7364 |\n",
      "\n",
      "The five highest recorded age-standardized prevalences of diabetes are all from the Marshall Islands, occurring between 2005 and 2009. The peak prevalence was 46.9759% in 2007, with slightly lower rates observed in subsequent years down to 46.7364% in 2005.\n"
     ]
    }
   ],
   "source": [
    "model = SQLRAG()\n",
    "model.prompt(\"What where the five highest recorded diabetes prevalences and from which year and country are they?\", verbose=True, print_results=True)"
   ]
  }
 ],
 "metadata": {
  "kernelspec": {
   "display_name": "Python 3",
   "language": "python",
   "name": "python3"
  },
  "language_info": {
   "codemirror_mode": {
    "name": "ipython",
    "version": 3
   },
   "file_extension": ".py",
   "mimetype": "text/x-python",
   "name": "python",
   "nbconvert_exporter": "python",
   "pygments_lexer": "ipython3",
   "version": "3.12.8"
  }
 },
 "nbformat": 4,
 "nbformat_minor": 2
}

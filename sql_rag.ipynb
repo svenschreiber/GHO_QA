{
 "cells": [
  {
   "cell_type": "code",
   "execution_count": null,
   "metadata": {},
   "outputs": [],
   "source": [
    "!pip install pandas chromadb ollama tqdm requests"
   ]
  },
  {
   "cell_type": "code",
   "execution_count": 2,
   "metadata": {},
   "outputs": [],
   "source": [
    "import pandas as pd\n",
    "import sqlite3\n",
    "import chromadb\n",
    "from chromadb.config import Settings\n",
    "from chromadb.utils.embedding_functions import DefaultEmbeddingFunction\n",
    "import ollama\n",
    "import re\n",
    "from pathlib import Path\n",
    "import requests\n",
    "from glob import glob\n",
    "from tqdm import tqdm\n",
    "\n",
    "Path(\"data/indicators\").mkdir(parents=True, exist_ok=True)"
   ]
  },
  {
   "cell_type": "code",
   "execution_count": null,
   "metadata": {},
   "outputs": [],
   "source": [
    "def pull_ollama_model(model):\n",
    "    current_digest, bars = '', {}\n",
    "    for progress in ollama.pull(model, stream=True):\n",
    "        digest = progress.get('digest', '')\n",
    "        if digest != current_digest and current_digest in bars:\n",
    "            bars[current_digest].close()\n",
    "\n",
    "        if not digest:\n",
    "            print(progress.get('status'))\n",
    "            continue\n",
    "\n",
    "        if digest not in bars and (total := progress.get('total')):\n",
    "            bars[digest] = tqdm(total=total, desc=f'pulling {digest[7:19]}', unit='B', unit_scale=True)\n",
    "\n",
    "        if completed := progress.get('completed'):\n",
    "            bars[digest].update(completed - bars[digest].n)\n",
    "\n",
    "        current_digest = digest\n",
    "\n",
    "# Download Ollama model\n",
    "pull_ollama_model(\"phi4\")"
   ]
  },
  {
   "cell_type": "code",
   "execution_count": 4,
   "metadata": {},
   "outputs": [],
   "source": [
    "# Automatically download the data for an indicator and filter/modify it's structure\n",
    "indicators = [\"NCD_DIABETES_PREVALENCE_AGESTD\", \"HIV_0000000026\"]\n",
    "for indicator in indicators:\n",
    "    data = requests.get(f\"https://ghoapi.azureedge.net/api/{indicator}\").json()\n",
    "    df = pd.DataFrame(data['value'])\n",
    "\n",
    "    # Get dimension types\n",
    "    dim_type_map = {\"SpatialDim\": None, \"TimeDim\": None, \"Dim1\": None, \"Dim2\": None, \"Dim3\": None, \"NumericValue\": \"value\"}\n",
    "    dim_value_map = {}\n",
    "    for dim in dim_type_map.keys():\n",
    "        if dim_type_map[dim] is not None: continue\n",
    "        dim_type = df[dim+\"Type\"].unique()[0]\n",
    "        if dim_type is None or dim_type == \"\": continue \n",
    "        dim_values = requests.get(f\"https://ghoapi.azureedge.net/api/DIMENSION/{dim_type}/DimensionValues\").json()[\"value\"]\n",
    "        dim_value_map[dim_type.lower()] = {d[\"Code\"]: d[\"Title\"].lower() for d in dim_values}\n",
    "        dim_type_map[dim] = dim_type.lower()\n",
    "\n",
    "    # Remove unused dimensions\n",
    "    dim_map = {k: v for k,v in dim_type_map.items() if v is not None}\n",
    "\n",
    "    # Get indicator name\n",
    "    indicator_name = requests.get(f\"https://ghoapi.azureedge.net/api/Indicator?$filter=IndicatorCode eq '{indicator}'\").json()[\"value\"][0][\"IndicatorName\"]\n",
    "\n",
    "    # Filter data to specific columns and rename to their actual names\n",
    "    filtered_df = df[dim_map.keys()]\n",
    "    filtered_df = filtered_df.rename(columns=dim_map)\n",
    "\n",
    "    # Map Value codes to their textual values\n",
    "    for dim, value_map in dim_value_map.items():\n",
    "        filtered_df[dim] = filtered_df[dim].map(value_map).fillna(filtered_df[dim])\n",
    "\n",
    "    # Save data to csv file\n",
    "    file_name = re.sub('[^0-9a-zA-Z]+', '_', indicator_name.lower())\n",
    "    filtered_df.to_csv(f\"data/indicators/{file_name}.csv\", index=False, sep=\";\")"
   ]
  },
  {
   "cell_type": "code",
   "execution_count": 5,
   "metadata": {},
   "outputs": [],
   "source": [
    "# Connect to sqlite database (file will be created in the next step)\n",
    "db_path = \"data/gho.db\"\n",
    "conn = sqlite3.connect(db_path)"
   ]
  },
  {
   "cell_type": "code",
   "execution_count": 6,
   "metadata": {},
   "outputs": [],
   "source": [
    "# Convert csv file to sqlite database\n",
    "for indicator_file in glob(\"data/indicators/*.csv\"):\n",
    "    df = pd.read_csv(indicator_file, sep=\";\")\n",
    "    df.to_sql(indicator_file.split(\"/\")[-1][:-4], conn, if_exists=\"replace\", index=False)"
   ]
  },
  {
   "cell_type": "code",
   "execution_count": 7,
   "metadata": {},
   "outputs": [],
   "source": [
    "# Chroma DB vector store\n",
    "embedding_func = DefaultEmbeddingFunction()\n",
    "chroma_client = chromadb.EphemeralClient(settings=Settings(anonymized_telemetry=False))\n",
    "table_collection = chroma_client.get_or_create_collection(name=\"tables\", embedding_function=embedding_func)"
   ]
  },
  {
   "cell_type": "code",
   "execution_count": 8,
   "metadata": {},
   "outputs": [
    {
     "name": "stdout",
     "output_type": "stream",
     "text": [
      "['CREATE TABLE \"number_of_new_hiv_infections\" (\\n\"country\" TEXT,\\n  \"year\" INTEGER,\\n  \"value\" REAL\\n)', 'CREATE TABLE \"prevalence_of_diabetes_age_standardized\" (\\n\"country\" TEXT,\\n  \"year\" INTEGER,\\n  \"sex\" TEXT,\\n  \"agegroup\" TEXT,\\n  \"value\" REAL\\n)']\n"
     ]
    }
   ],
   "source": [
    "# Store table ddls in chroma db\n",
    "ddls = pd.read_sql_query(\"SELECT type, sql FROM sqlite_master WHERE sql is not null\", conn)\n",
    "ddls = ddls['sql'].to_list()\n",
    "table_collection.add(documents=ddls, ids=[f\"id{i}\" for i in range(len(ddls))])\n",
    "\n",
    "print(ddls)"
   ]
  },
  {
   "cell_type": "code",
   "execution_count": 9,
   "metadata": {},
   "outputs": [
    {
     "name": "stderr",
     "output_type": "stream",
     "text": [
      "Number of requested results 10 is greater than number of elements in index 2, updating n_results = 2\n"
     ]
    },
    {
     "name": "stdout",
     "output_type": "stream",
     "text": [
      "===Tables \n",
      "CREATE TABLE \"number_of_new_hiv_infections\" (\n",
      "\"country\" TEXT,\n",
      "  \"year\" INTEGER,\n",
      "  \"value\" REAL\n",
      ")\n",
      "\n",
      "CREATE TABLE \"prevalence_of_diabetes_age_standardized\" (\n",
      "\"country\" TEXT,\n",
      "  \"year\" INTEGER,\n",
      "  \"sex\" TEXT,\n",
      "  \"agegroup\" TEXT,\n",
      "  \"value\" REAL\n",
      ")\n",
      "\n",
      "===Response Guidelines \n",
      "1. If the provided context is sufficient, please generate a valid SQL query without any explanations for the question. \n",
      "2. If the provided context is almost sufficient but requires knowledge of a specific string in a particular column, please generate an intermediate SQL query to find the distinct strings in that column. Prepend the query with a comment saying intermediate_sql \n",
      "3. If the provided context is insufficient, please explain why it can't be generated. \n",
      "4. Please use the most relevant table(s). \n",
      "5. If the answer depends on table columns which the user did not anticipate, include them reasonably. \n",
      "6. If the question has been asked and answered before, please repeat the answer exactly as it was given before. \n",
      "7. Ensure that the output SQL is SQLite-compliant and executable, and free of syntax errors. \n",
      "\n"
     ]
    }
   ],
   "source": [
    "# Create system prompt for question\n",
    "user_prompt = \"How is the diabetes prevalence compared to the number of hiv infections in germany in 2010?\"\n",
    "\n",
    "system_prompt = \"===Tables \\n\"\n",
    "ddls = table_collection.query(query_texts=user_prompt, n_results=10)[\"documents\"][0]\n",
    "for ddl in ddls:\n",
    "    system_prompt += ddl + \"\\n\\n\"\n",
    "\n",
    "system_prompt += (\n",
    "    \"===Response Guidelines \\n\"\n",
    "    \"1. If the provided context is sufficient, please generate a valid SQL query without any explanations for the question. \\n\"\n",
    "    \"2. If the provided context is almost sufficient but requires knowledge of a specific string in a particular column, please generate an intermediate SQL query to find the distinct strings in that column. Prepend the query with a comment saying intermediate_sql \\n\"\n",
    "    \"3. If the provided context is insufficient, please explain why it can't be generated. \\n\"\n",
    "    \"4. Please use the most relevant table(s). \\n\"\n",
    "    \"5. If the answer depends on table columns which the user did not anticipate, include them reasonably. \\n\"\n",
    "    \"6. If the question has been asked and answered before, please repeat the answer exactly as it was given before. \\n\"\n",
    "    f\"7. Ensure that the output SQL is SQLite-compliant and executable, and free of syntax errors. \\n\"\n",
    ")\n",
    "\n",
    "# Implement intermediate_sql prompting\n",
    "print(system_prompt)"
   ]
  },
  {
   "cell_type": "code",
   "execution_count": 10,
   "metadata": {},
   "outputs": [
    {
     "name": "stdout",
     "output_type": "stream",
     "text": [
      "```sql\n",
      "SELECT \n",
      "    a.year,\n",
      "    a.country,\n",
      "    a.value AS diabetes_prevalence,\n",
      "    b.value AS hiv_infections\n",
      "FROM \n",
      "    \"prevalence_of_diabetes_age_standardized\" a\n",
      "JOIN \n",
      "    \"number_of_new_hiv_infections\" b ON a.year = b.year AND a.country = b.country\n",
      "WHERE \n",
      "    a.country = 'Germany' AND a.year = 2010;\n",
      "```\n"
     ]
    }
   ],
   "source": [
    "# Create message log\n",
    "messages = [\n",
    "    {'role': 'system', 'content': system_prompt},\n",
    "    {'role': 'user', 'content': user_prompt},\n",
    "]\n",
    "\n",
    "# Prompt an LLM.\n",
    "response = ollama.chat(model=\"phi4\", messages=messages, options=dict(num_ctx=16384))\n",
    "sql = response[\"message\"][\"content\"]\n",
    "print(sql)\n",
    "\n",
    "# TODO: run LLM again if response contains 'intermediate_sql'"
   ]
  },
  {
   "cell_type": "code",
   "execution_count": 11,
   "metadata": {},
   "outputs": [
    {
     "data": {
      "text/html": [
       "<div>\n",
       "<style scoped>\n",
       "    .dataframe tbody tr th:only-of-type {\n",
       "        vertical-align: middle;\n",
       "    }\n",
       "\n",
       "    .dataframe tbody tr th {\n",
       "        vertical-align: top;\n",
       "    }\n",
       "\n",
       "    .dataframe thead th {\n",
       "        text-align: right;\n",
       "    }\n",
       "</style>\n",
       "<table border=\"1\" class=\"dataframe\">\n",
       "  <thead>\n",
       "    <tr style=\"text-align: right;\">\n",
       "      <th></th>\n",
       "      <th>year</th>\n",
       "      <th>country</th>\n",
       "      <th>diabetes_prevalence</th>\n",
       "      <th>hiv_infections</th>\n",
       "    </tr>\n",
       "  </thead>\n",
       "  <tbody>\n",
       "    <tr>\n",
       "      <th>0</th>\n",
       "      <td>2010</td>\n",
       "      <td>germany</td>\n",
       "      <td>8.30400</td>\n",
       "      <td>2700.0</td>\n",
       "    </tr>\n",
       "    <tr>\n",
       "      <th>1</th>\n",
       "      <td>2010</td>\n",
       "      <td>germany</td>\n",
       "      <td>9.20017</td>\n",
       "      <td>2700.0</td>\n",
       "    </tr>\n",
       "    <tr>\n",
       "      <th>2</th>\n",
       "      <td>2010</td>\n",
       "      <td>germany</td>\n",
       "      <td>6.83964</td>\n",
       "      <td>2700.0</td>\n",
       "    </tr>\n",
       "    <tr>\n",
       "      <th>3</th>\n",
       "      <td>2010</td>\n",
       "      <td>germany</td>\n",
       "      <td>11.20866</td>\n",
       "      <td>2700.0</td>\n",
       "    </tr>\n",
       "    <tr>\n",
       "      <th>4</th>\n",
       "      <td>2010</td>\n",
       "      <td>germany</td>\n",
       "      <td>7.28552</td>\n",
       "      <td>2700.0</td>\n",
       "    </tr>\n",
       "    <tr>\n",
       "      <th>5</th>\n",
       "      <td>2010</td>\n",
       "      <td>germany</td>\n",
       "      <td>5.44183</td>\n",
       "      <td>2700.0</td>\n",
       "    </tr>\n",
       "  </tbody>\n",
       "</table>\n",
       "</div>"
      ],
      "text/plain": [
       "   year  country  diabetes_prevalence  hiv_infections\n",
       "0  2010  germany              8.30400          2700.0\n",
       "1  2010  germany              9.20017          2700.0\n",
       "2  2010  germany              6.83964          2700.0\n",
       "3  2010  germany             11.20866          2700.0\n",
       "4  2010  germany              7.28552          2700.0\n",
       "5  2010  germany              5.44183          2700.0"
      ]
     },
     "execution_count": 11,
     "metadata": {},
     "output_type": "execute_result"
    }
   ],
   "source": [
    "def extract_sql(response):\n",
    "    rules = [r\"\\bWITH\\b .*?;\", r\"SELECT.*?;\", r\"```sql\\n(.*)```\", r\"```(.*)```\"]\n",
    "    for rule in rules:\n",
    "        if sqls := re.findall(rule, response, re.DOTALL): return sqls[-1]\n",
    "    return response\n",
    "\n",
    "sql = extract_sql(sql).lower()\n",
    "df = pd.read_sql_query(sql, conn)\n",
    "df"
   ]
  },
  {
   "cell_type": "code",
   "execution_count": 12,
   "metadata": {},
   "outputs": [
    {
     "name": "stdout",
     "output_type": "stream",
     "text": [
      "In Germany in 2010, diabetes prevalence ranged from approximately 5.44% to 11.21%, while there were consistently about 2700 HIV infections. The diabetes prevalence was significantly higher than the number of HIV infections.\n"
     ]
    }
   ],
   "source": [
    "# We now prompt again to summarize the contents of the DataFrame\n",
    "messages = [\n",
    "    {'role': 'system', 'content': f\"You are a helpful data assistant. The user asked the question: '{user_prompt}'\\n\\nThe following is a pandas DataFrame with the results of the query: \\n{df.to_markdown()}\\n\\n\"},\n",
    "    {'role': 'user', 'content': \"Briefly summarize the data based on the question that was asked. Do not respond with any additional explanation beyond the summary.\"},\n",
    "]\n",
    "\n",
    "response = ollama.chat(model=\"phi4\", messages=messages, options=dict(num_ctx=16384))\n",
    "print(response[\"message\"][\"content\"])"
   ]
  }
 ],
 "metadata": {
  "kernelspec": {
   "display_name": "nlp_project",
   "language": "python",
   "name": "python3"
  },
  "language_info": {
   "codemirror_mode": {
    "name": "ipython",
    "version": 3
   },
   "file_extension": ".py",
   "mimetype": "text/x-python",
   "name": "python",
   "nbconvert_exporter": "python",
   "pygments_lexer": "ipython3",
   "version": "3.12.8"
  }
 },
 "nbformat": 4,
 "nbformat_minor": 2
}

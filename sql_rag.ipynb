{
 "cells": [
  {
   "cell_type": "code",
   "execution_count": 32,
   "metadata": {},
   "outputs": [],
   "source": [
    "import pandas as pd\n",
    "import sqlite3\n",
    "import chromadb\n",
    "from chromadb.config import Settings\n",
    "from chromadb.utils.embedding_functions import DefaultEmbeddingFunction\n",
    "import ollama"
   ]
  },
  {
   "cell_type": "code",
   "execution_count": 12,
   "metadata": {},
   "outputs": [],
   "source": [
    "# Connect to sqlite database\n",
    "db_path = \"data/gho.db\"\n",
    "#os.remove(db_path) if os.path.exists(db_path) else None # clear db if it exists\n",
    "conn = sqlite3.connect(db_path)"
   ]
  },
  {
   "cell_type": "code",
   "execution_count": 13,
   "metadata": {},
   "outputs": [
    {
     "data": {
      "text/plain": [
       "6567"
      ]
     },
     "execution_count": 13,
     "metadata": {},
     "output_type": "execute_result"
    }
   ],
   "source": [
    "# Convert csv file to sqlite database\n",
    "df = pd.read_csv(\"data/filtered.csv\", sep=\";\")\n",
    "df.to_sql(\"diabetes_prevalence\", conn, if_exists=\"replace\", index=False)"
   ]
  },
  {
   "cell_type": "code",
   "execution_count": 14,
   "metadata": {},
   "outputs": [],
   "source": [
    "# Chroma DB vector store\n",
    "embedding_func = DefaultEmbeddingFunction()\n",
    "chroma_client = chromadb.EphemeralClient(settings=Settings(anonymized_telemetry=False))\n",
    "table_collection = chroma_client.get_or_create_collection(name=\"tables\", embedding_function=embedding_func)"
   ]
  },
  {
   "cell_type": "code",
   "execution_count": 44,
   "metadata": {},
   "outputs": [
    {
     "name": "stderr",
     "output_type": "stream",
     "text": [
      "Add of existing embedding ID: id0\n",
      "Insert of existing embedding ID: id0\n"
     ]
    },
    {
     "name": "stdout",
     "output_type": "stream",
     "text": [
      "['CREATE TABLE \"diabetes_prevalence\" (\\n\"year\" INTEGER,\\n  \"country\" TEXT,\\n  \"sex\" TEXT,\\n  \"age group\" TEXT,\\n  \"value\" REAL\\n)']\n"
     ]
    }
   ],
   "source": [
    "# Store table ddls in chroma db\n",
    "ddls = pd.read_sql_query(\"SELECT type, sql FROM sqlite_master WHERE sql is not null\", conn)\n",
    "ddls = ddls['sql'].to_list()\n",
    "table_collection.add(documents=ddls, ids=[f\"id{i}\" for i in range(len(ddls))])\n",
    "\n",
    "print(ddls)"
   ]
  },
  {
   "cell_type": "code",
   "execution_count": 43,
   "metadata": {},
   "outputs": [
    {
     "name": "stderr",
     "output_type": "stream",
     "text": [
      "Number of requested results 10 is greater than number of elements in index 1, updating n_results = 1\n"
     ]
    },
    {
     "name": "stdout",
     "output_type": "stream",
     "text": [
      "===Tables \n",
      "CREATE TABLE \"diabetes_prevalence\" (\n",
      "\"year\" INTEGER,\n",
      "  \"country\" TEXT,\n",
      "  \"sex\" TEXT,\n",
      "  \"age group\" TEXT,\n",
      "  \"value\" REAL\n",
      ")\n",
      "\n",
      "===Response Guidelines \n",
      "1. If the provided context is sufficient, please generate a valid SQL query without any explanations for the question. \n",
      "2. If the provided context is almost sufficient but requires knowledge of a specific string in a particular column, please generate an intermediate SQL query to find the distinct strings in that column. Prepend the query with a comment saying intermediate_sql \n",
      "3. If the provided context is insufficient, please explain why it can't be generated. \n",
      "4. Please use the most relevant table(s). \n",
      "5. If the question has been asked and answered before, please repeat the answer exactly as it was given before. \n",
      "6. Ensure that the output SQL is SQLite-compliant and executable, and free of syntax errors. \n",
      "\n"
     ]
    }
   ],
   "source": [
    "# Create system prompt for question\n",
    "user_prompt = \"What was the highest diabetes prevalence for males?\"\n",
    "\n",
    "system_prompt = \"===Tables \\n\"\n",
    "ddls = table_collection.query(query_texts=user_prompt, n_results=10)[\"documents\"][0]\n",
    "for ddl in ddls:\n",
    "    system_prompt += ddl + \"\\n\\n\"\n",
    "\n",
    "system_prompt += (\n",
    "    \"===Response Guidelines \\n\"\n",
    "    \"1. If the provided context is sufficient, please generate a valid SQL query without any explanations for the question. \\n\"\n",
    "    \"2. If the provided context is almost sufficient but requires knowledge of a specific string in a particular column, please generate an intermediate SQL query to find the distinct strings in that column. Prepend the query with a comment saying intermediate_sql \\n\"\n",
    "    \"3. If the provided context is insufficient, please explain why it can't be generated. \\n\"\n",
    "    \"4. Please use the most relevant table(s). \\n\"\n",
    "    \"5. If the question has been asked and answered before, please repeat the answer exactly as it was given before. \\n\"\n",
    "    f\"6. Ensure that the output SQL is SQLite-compliant and executable, and free of syntax errors. \\n\"\n",
    ")\n",
    "\n",
    "print(system_prompt)"
   ]
  },
  {
   "cell_type": "code",
   "execution_count": 42,
   "metadata": {},
   "outputs": [
    {
     "name": "stdout",
     "output_type": "stream",
     "text": [
      "```sql\n",
      "SELECT MAX(value) AS highest_diabetes_prevalence_for_males\n",
      "FROM diabetes_prevalence\n",
      "WHERE sex = 'male';\n",
      "```\n"
     ]
    }
   ],
   "source": [
    "# Create message log\n",
    "messages = [\n",
    "    {'role': 'system', 'content': system_prompt},\n",
    "    {'role': 'user', 'content': user_prompt},\n",
    "]\n",
    "\n",
    "# Prompt LLM\n",
    "response = ollama.chat(model=\"phi4\", messages=messages)\n",
    "sql = response[\"message\"][\"content\"]\n",
    "print(sql)"
   ]
  }
 ],
 "metadata": {
  "kernelspec": {
   "display_name": "nlp_project",
   "language": "python",
   "name": "python3"
  },
  "language_info": {
   "codemirror_mode": {
    "name": "ipython",
    "version": 3
   },
   "file_extension": ".py",
   "mimetype": "text/x-python",
   "name": "python",
   "nbconvert_exporter": "python",
   "pygments_lexer": "ipython3",
   "version": "3.12.8"
  }
 },
 "nbformat": 4,
 "nbformat_minor": 2
}

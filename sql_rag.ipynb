{
 "cells": [
  {
   "cell_type": "code",
   "execution_count": 26,
   "metadata": {},
   "outputs": [],
   "source": [
    "import pandas as pd\n",
    "import sqlite3\n",
    "import chromadb\n",
    "from chromadb.config import Settings\n",
    "from chromadb.utils.embedding_functions import DefaultEmbeddingFunction\n",
    "import ollama\n",
    "import re"
   ]
  },
  {
   "cell_type": "code",
   "execution_count": 27,
   "metadata": {},
   "outputs": [],
   "source": [
    "# Connect to sqlite database\n",
    "db_path = \"data/gho.db\"\n",
    "#os.remove(db_path) if os.path.exists(db_path) else None # clear db if it exists\n",
    "conn = sqlite3.connect(db_path)"
   ]
  },
  {
   "cell_type": "code",
   "execution_count": 28,
   "metadata": {},
   "outputs": [
    {
     "data": {
      "text/plain": [
       "41580"
      ]
     },
     "execution_count": 28,
     "metadata": {},
     "output_type": "execute_result"
    }
   ],
   "source": [
    "# Convert csv file to sqlite database\n",
    "df = pd.read_csv(\"data/filtered.csv\", sep=\";\")\n",
    "df.to_sql(\"diabetes_prevalence\", conn, if_exists=\"replace\", index=False)"
   ]
  },
  {
   "cell_type": "code",
   "execution_count": 29,
   "metadata": {},
   "outputs": [],
   "source": [
    "# Chroma DB vector store\n",
    "embedding_func = DefaultEmbeddingFunction()\n",
    "chroma_client = chromadb.EphemeralClient(settings=Settings(anonymized_telemetry=False))\n",
    "table_collection = chroma_client.get_or_create_collection(name=\"tables\", embedding_function=embedding_func)"
   ]
  },
  {
   "cell_type": "code",
   "execution_count": 30,
   "metadata": {},
   "outputs": [
    {
     "name": "stderr",
     "output_type": "stream",
     "text": [
      "Add of existing embedding ID: id0\n",
      "Insert of existing embedding ID: id0\n"
     ]
    },
    {
     "name": "stdout",
     "output_type": "stream",
     "text": [
      "['CREATE TABLE \"diabetes_prevalence\" (\\n\"country\" TEXT,\\n  \"year\" INTEGER,\\n  \"sex\" TEXT,\\n  \"agegroup\" TEXT,\\n  \"value\" REAL\\n)']\n"
     ]
    }
   ],
   "source": [
    "# Store table ddls in chroma db\n",
    "ddls = pd.read_sql_query(\"SELECT type, sql FROM sqlite_master WHERE sql is not null\", conn)\n",
    "ddls = ddls['sql'].to_list()\n",
    "table_collection.add(documents=ddls, ids=[f\"id{i}\" for i in range(len(ddls))])\n",
    "\n",
    "print(ddls)"
   ]
  },
  {
   "cell_type": "code",
   "execution_count": 42,
   "metadata": {},
   "outputs": [
    {
     "name": "stderr",
     "output_type": "stream",
     "text": [
      "Number of requested results 10 is greater than number of elements in index 1, updating n_results = 1\n"
     ]
    },
    {
     "name": "stdout",
     "output_type": "stream",
     "text": [
      "===Tables \n",
      "CREATE TABLE \"diabetes_prevalence\" (\n",
      "\"country\" TEXT,\n",
      "  \"year\" INTEGER,\n",
      "  \"sex\" TEXT,\n",
      "  \"agegroup\" TEXT,\n",
      "  \"value\" REAL\n",
      ")\n",
      "\n",
      "===Response Guidelines \n",
      "1. If the provided context is sufficient, please generate a valid SQL query without any explanations for the question. \n",
      "2. If the provided context is almost sufficient but requires knowledge of a specific string in a particular column, please generate an intermediate SQL query to find the distinct strings in that column. Prepend the query with a comment saying intermediate_sql \n",
      "3. If the provided context is insufficient, please explain why it can't be generated. \n",
      "4. Please use the most relevant table(s). \n",
      "5. If the question has been asked and answered before, please repeat the answer exactly as it was given before. \n",
      "6. Ensure that the output SQL is SQLite-compliant and executable, and free of syntax errors. \n",
      "\n"
     ]
    }
   ],
   "source": [
    "# Create system prompt for question\n",
    "user_prompt = \"How did the diabetes prevalence change over the years in germany for males\"\n",
    "\n",
    "system_prompt = \"===Tables \\n\"\n",
    "ddls = table_collection.query(query_texts=user_prompt, n_results=10)[\"documents\"][0]\n",
    "for ddl in ddls:\n",
    "    system_prompt += ddl + \"\\n\\n\"\n",
    "\n",
    "system_prompt += (\n",
    "    \"===Response Guidelines \\n\"\n",
    "    \"1. If the provided context is sufficient, please generate a valid SQL query without any explanations for the question. \\n\"\n",
    "    \"2. If the provided context is almost sufficient but requires knowledge of a specific string in a particular column, please generate an intermediate SQL query to find the distinct strings in that column. Prepend the query with a comment saying intermediate_sql \\n\"\n",
    "    \"3. If the provided context is insufficient, please explain why it can't be generated. \\n\"\n",
    "    \"4. Please use the most relevant table(s). \\n\"\n",
    "    \"5. If the question has been asked and answered before, please repeat the answer exactly as it was given before. \\n\"\n",
    "    f\"6. Ensure that the output SQL is SQLite-compliant and executable, and free of syntax errors. \\n\"\n",
    ")\n",
    "\n",
    "# Implement intermediate_sql prompting\n",
    "print(system_prompt)"
   ]
  },
  {
   "cell_type": "code",
   "execution_count": 43,
   "metadata": {},
   "outputs": [
    {
     "name": "stdout",
     "output_type": "stream",
     "text": [
      "```sql\n",
      "SELECT year, value \n",
      "FROM diabetes_prevalence \n",
      "WHERE country = 'germany' AND sex = 'male'\n",
      "ORDER BY year;\n",
      "```\n"
     ]
    }
   ],
   "source": [
    "# Create message log\n",
    "messages = [\n",
    "    {'role': 'system', 'content': system_prompt},\n",
    "    {'role': 'user', 'content': user_prompt},\n",
    "]\n",
    "\n",
    "# Prompt LLM\n",
    "response = ollama.chat(model=\"phi4\", messages=messages)\n",
    "sql = response[\"message\"][\"content\"]\n",
    "print(sql)\n",
    "\n",
    "# TODO: run LLM again if response contains 'intermediate_sql'"
   ]
  },
  {
   "cell_type": "code",
   "execution_count": 44,
   "metadata": {},
   "outputs": [
    {
     "data": {
      "text/html": [
       "<div>\n",
       "<style scoped>\n",
       "    .dataframe tbody tr th:only-of-type {\n",
       "        vertical-align: middle;\n",
       "    }\n",
       "\n",
       "    .dataframe tbody tr th {\n",
       "        vertical-align: top;\n",
       "    }\n",
       "\n",
       "    .dataframe thead th {\n",
       "        text-align: right;\n",
       "    }\n",
       "</style>\n",
       "<table border=\"1\" class=\"dataframe\">\n",
       "  <thead>\n",
       "    <tr style=\"text-align: right;\">\n",
       "      <th></th>\n",
       "      <th>year</th>\n",
       "      <th>value</th>\n",
       "    </tr>\n",
       "  </thead>\n",
       "  <tbody>\n",
       "    <tr>\n",
       "      <th>0</th>\n",
       "      <td>1990</td>\n",
       "      <td>5.75308</td>\n",
       "    </tr>\n",
       "    <tr>\n",
       "      <th>1</th>\n",
       "      <td>1990</td>\n",
       "      <td>7.64556</td>\n",
       "    </tr>\n",
       "    <tr>\n",
       "      <th>2</th>\n",
       "      <td>1991</td>\n",
       "      <td>5.96632</td>\n",
       "    </tr>\n",
       "    <tr>\n",
       "      <th>3</th>\n",
       "      <td>1991</td>\n",
       "      <td>7.93539</td>\n",
       "    </tr>\n",
       "    <tr>\n",
       "      <th>4</th>\n",
       "      <td>1992</td>\n",
       "      <td>6.18168</td>\n",
       "    </tr>\n",
       "    <tr>\n",
       "      <th>...</th>\n",
       "      <td>...</td>\n",
       "      <td>...</td>\n",
       "    </tr>\n",
       "    <tr>\n",
       "      <th>61</th>\n",
       "      <td>2020</td>\n",
       "      <td>10.89440</td>\n",
       "    </tr>\n",
       "    <tr>\n",
       "      <th>62</th>\n",
       "      <td>2021</td>\n",
       "      <td>10.89235</td>\n",
       "    </tr>\n",
       "    <tr>\n",
       "      <th>63</th>\n",
       "      <td>2021</td>\n",
       "      <td>8.01080</td>\n",
       "    </tr>\n",
       "    <tr>\n",
       "      <th>64</th>\n",
       "      <td>2022</td>\n",
       "      <td>10.90029</td>\n",
       "    </tr>\n",
       "    <tr>\n",
       "      <th>65</th>\n",
       "      <td>2022</td>\n",
       "      <td>8.01474</td>\n",
       "    </tr>\n",
       "  </tbody>\n",
       "</table>\n",
       "<p>66 rows × 2 columns</p>\n",
       "</div>"
      ],
      "text/plain": [
       "    year     value\n",
       "0   1990   5.75308\n",
       "1   1990   7.64556\n",
       "2   1991   5.96632\n",
       "3   1991   7.93539\n",
       "4   1992   6.18168\n",
       "..   ...       ...\n",
       "61  2020  10.89440\n",
       "62  2021  10.89235\n",
       "63  2021   8.01080\n",
       "64  2022  10.90029\n",
       "65  2022   8.01474\n",
       "\n",
       "[66 rows x 2 columns]"
      ]
     },
     "execution_count": 44,
     "metadata": {},
     "output_type": "execute_result"
    }
   ],
   "source": [
    "def extract_sql(response):\n",
    "    rules = [r\"\\bWITH\\b .*?;\", r\"SELECT.*?;\", r\"```sql\\n(.*)```\", r\"```(.*)```\"]\n",
    "    for rule in rules:\n",
    "        if sqls := re.findall(rule, response, re.DOTALL): return sqls[-1]\n",
    "    return response\n",
    "\n",
    "sql = extract_sql(sql).lower()\n",
    "df = pd.read_sql_query(sql, conn)\n",
    "df\n"
   ]
  },
  {
   "cell_type": "code",
   "execution_count": 46,
   "metadata": {},
   "outputs": [
    {
     "name": "stdout",
     "output_type": "stream",
     "text": [
      "From 1990 to 2022 in Germany, diabetes prevalence among males showed a general increase over time. Two distinct values are present for each year: one value consistently increased from approximately 5.75% in 1990 to around 10.90% by 2022, while the other also rose but at a slower rate, starting at about 7.65% and reaching nearly 8.02%. This indicates two trends or data sources showing an upward trend with varying rates of increase over the years.\n"
     ]
    }
   ],
   "source": [
    "messages = [\n",
    "    {'role': 'system', 'content': f\"You are a helpful data assistant. The user asked the question: '{user_prompt}'\\n\\nThe following is a pandas DataFrame with the results of the query: \\n{df.to_markdown()}\\n\\n\"},\n",
    "    {'role': 'user', 'content': \"Briefly summarize the data based on the question that was asked. Do not respond with any additional explanation beyond the summary.\"},\n",
    "]\n",
    "\n",
    "response = ollama.chat(model=\"phi4\", messages=messages)\n",
    "print(response[\"message\"][\"content\"])"
   ]
  }
 ],
 "metadata": {
  "kernelspec": {
   "display_name": "nlp_project",
   "language": "python",
   "name": "python3"
  },
  "language_info": {
   "codemirror_mode": {
    "name": "ipython",
    "version": 3
   },
   "file_extension": ".py",
   "mimetype": "text/x-python",
   "name": "python",
   "nbconvert_exporter": "python",
   "pygments_lexer": "ipython3",
   "version": "3.12.8"
  }
 },
 "nbformat": 4,
 "nbformat_minor": 2
}
